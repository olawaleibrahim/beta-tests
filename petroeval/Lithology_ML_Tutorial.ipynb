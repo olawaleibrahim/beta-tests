{
 "cells": [
  {
   "cell_type": "code",
   "execution_count": 1,
   "metadata": {},
   "outputs": [],
   "source": [
    "from plots import two_plots, two_plot, four_plots, three_plots\n",
    "import sklearn.metrics as sklm\n",
    "import pseudomodes as pds\n",
    "import pandas as pd\n",
    "import numpy as np\n",
    "%matplotlib inline"
   ]
  },
  {
   "cell_type": "code",
   "execution_count": 2,
   "metadata": {},
   "outputs": [],
   "source": [
    "df = pd.read_csv('data/traindata.csv')"
   ]
  },
  {
   "cell_type": "code",
   "execution_count": 3,
   "metadata": {},
   "outputs": [],
   "source": [
    "lithos = pds.PredictLitho(df, None)"
   ]
  },
  {
   "cell_type": "code",
   "execution_count": 4,
   "metadata": {},
   "outputs": [
    {
     "name": "stdout",
     "output_type": "stream",
     "text": [
      "Number of cross validation folds should be greater than 2; 2 specified\n",
      "[LightGBM] [Warning] Accuracy may be bad since you didn't explicitly set num_leaves OR 2^max_depth > num_leaves. (num_leaves=31).\n",
      "Training until validation scores don't improve for 100 rounds\n",
      "[200]\tvalid_0's l2: 9.02271e-05\n",
      "[400]\tvalid_0's l2: 9.43978e-06\n",
      "[600]\tvalid_0's l2: 6.22595e-06\n",
      "[800]\tvalid_0's l2: 5.31412e-06\n",
      "[1000]\tvalid_0's l2: 4.98137e-06\n",
      "[1200]\tvalid_0's l2: 4.69613e-06\n",
      "[1400]\tvalid_0's l2: 4.45737e-06\n",
      "[1600]\tvalid_0's l2: 4.27743e-06\n",
      "[1800]\tvalid_0's l2: 4.13631e-06\n",
      "[2000]\tvalid_0's l2: 4.04151e-06\n",
      "[2200]\tvalid_0's l2: 3.95393e-06\n",
      "[2400]\tvalid_0's l2: 3.8872e-06\n",
      "[2600]\tvalid_0's l2: 3.81539e-06\n",
      "[2800]\tvalid_0's l2: 3.74765e-06\n",
      "[3000]\tvalid_0's l2: 3.69964e-06\n",
      "Did not meet early stopping. Best iteration is:\n",
      "[3000]\tvalid_0's l2: 3.69964e-06\n",
      "The test RMSE is : 0.0019234457545318601\n",
      "The test R2 score is : 0.9999999999998485\n",
      "None\n"
     ]
    },
    {
     "data": {
      "image/png": "[encoded data removed]",
      "text/plain": [
       "<Figure size 864x576 with 1 Axes>"
      ]
     },
     "metadata": {
      "needs_background": "light"
     },
     "output_type": "display_data"
    },
    {
     "data": {
      "text/plain": [
       "<Figure size 864x576 with 0 Axes>"
      ]
     },
     "metadata": {},
     "output_type": "display_data"
    }
   ],
   "source": [
    "predictions = lithos.predict('RHOB', 400, 1000, model='LGB')"
   ]
  },
  {
   "cell_type": "code",
   "execution_count": 5,
   "metadata": {},
   "outputs": [],
   "source": [
    "# generating a synthetic depth column for the well\n",
    "\n",
    "df['depth'] = range(0, df.shape[0])\n",
    "\n",
    "# slicing off the dataframe based on the depth specified for prediction for evaluation\n",
    "\n",
    "df = df.iloc[df[df.depth == 400].index[0]:df[df.depth == 1000].index[0]]"
   ]
  },
  {
   "cell_type": "code",
   "execution_count": 6,
   "metadata": {},
   "outputs": [
    {
     "name": "stdout",
     "output_type": "stream",
     "text": [
      "R2 score is: 0.94\n",
      "RMSE is: 0.0132\n"
     ]
    }
   ],
   "source": [
    "print(f'R2 score is: {round((sklm.r2_score(df.RHOB, predictions)), 2)}')\n",
    "print(f'RMSE is: {round((sklm.mean_squared_error(df.RHOB, predictions) ** 0.5), 4)}')"
   ]
  },
  {
   "cell_type": "code",
   "execution_count": null,
   "metadata": {},
   "outputs": [],
   "source": []
  }
 ],
 "metadata": {
  "kernelspec": {
   "display_name": "Python 3",
   "language": "python",
   "name": "python3"
  },
  "language_info": {
   "codemirror_mode": {
    "name": "ipython",
    "version": 3
   },
   "file_extension": ".py",
   "mimetype": "text/x-python",
   "name": "python",
   "nbconvert_exporter": "python",
   "pygments_lexer": "ipython3",
   "version": "3.8.5"
  }
 },
 "nbformat": 4,
 "nbformat_minor": 4
}
